{
 "cells": [
  {
   "cell_type": "code",
   "execution_count": null,
   "metadata": {},
   "outputs": [],
   "source": [
    "import datetime, dateutil, json, os, pickle, requests, time\n",
    "from bs4 import BeautifulSoup\n",
    "import pandas as pd\n",
    "from twilio.rest import Client"
   ]
  },
  {
   "cell_type": "code",
   "execution_count": null,
   "metadata": {},
   "outputs": [],
   "source": [
    "def get_form_values(form):\n",
    "    return {i.get(\"name\"):(i.get(\"value\") or \"\") for i in form.find_all([\"input\", \"select\"])}\n",
    "\n",
    "def parse_attendance(bs: BeautifulSoup):\n",
    "    tables = bs.find_all(\"table\")\n",
    "    bs_table = tables[0]\n",
    "\n",
    "    row_names = []\n",
    "    col_names = []\n",
    "    rows = []\n",
    "\n",
    "    for r, bs_row in enumerate(bs_table.find_all([\"th\", \"tr\"])):\n",
    "        if r > 0:\n",
    "            rows.append([])\n",
    "        for c, elt in enumerate(bs_row.find_all(\"td\")):\n",
    "            if r == 0 and c == 0:\n",
    "                pass\n",
    "            elif r == 0:\n",
    "                col_names.append(dateutil.parser.parse(elt.text.split()[1]))\n",
    "            elif c == 0:\n",
    "                lines = elt.text.splitlines()\n",
    "                row_names.append(f\"P{lines[5].split()[1]} {lines[2].strip()} {lines[8].strip()}\")\n",
    "            else:\n",
    "                spans = elt.select(\"div div span:not(.sg-assignment-description):not(.sg-right)\")\n",
    "                if spans:\n",
    "                    e = spans[0].text.strip()\n",
    "                else:\n",
    "                    e = \"\"\n",
    "                rows[-1].append(e)\n",
    "\n",
    "    return pd.DataFrame(rows, columns=col_names, index=row_names)\n",
    "    \n",
    "def send_sms(body):\n",
    "    # Download the helper library from https://www.twilio.com/docs/python/install\n",
    "\n",
    "    twilio_config = json.load(open(\"secrets/twilio.json\"))\n",
    "    client = Client(twilio_config[\"AccountSID\"], twilio_config[\"AuthToken\"])\n",
    "\n",
    "    for dest_phone_number in twilio_config[\"DestPhoneNumbers\"]:\n",
    "        message = client.messages.create(\n",
    "            body=body,\n",
    "            from_=twilio_config[\"TwilioPhoneNumber\"],\n",
    "            to=dest_phone_number)\n",
    "        time.sleep(1.1)\n",
    "\n",
    "def readable_date(timestamp):\n",
    "    date = timestamp.date()\n",
    "    today = datetime.date.today()\n",
    "    days_old = (today - date).days\n",
    "    if days_old == 0:\n",
    "        return f\"Today ({date.strftime('%a')})\"\n",
    "    elif days_old == 1:\n",
    "        return f\"Yesterday ({date.strftime('%a')})\"\n",
    "    else:\n",
    "        return f\"{date.strftime('%a %m/%d')}\""
   ]
  },
  {
   "cell_type": "code",
   "execution_count": null,
   "metadata": {},
   "outputs": [],
   "source": [
    "def log_in_and_get_home_page():\n",
    "    print(\"Logging in\")\n",
    "    login_url = \"https://hac40.pps.k12.pa.us/HomeAccess4_1/Account/LogOn?ReturnUrl=%2fHomeAccess4_1%2fHome%2fWeekView\"\n",
    "    html = session.get(login_url).text\n",
    "    bs = BeautifulSoup(html, \"html.parser\")\n",
    "    forms = bs.find_all(\"form\")\n",
    "    form = forms[0]\n",
    "\n",
    "    form_vals = get_form_values(form)\n",
    "\n",
    "    login = json.load(open(\"secrets/login.json\"))\n",
    "\n",
    "    form_vals[\"LogOnDetails.UserName\"] = login[\"username\"]\n",
    "    form_vals[\"LogOnDetails.Password\"] = login[\"password\"]\n",
    "    form_vals[\"Database\"] = \"10\"\n",
    "\n",
    "    login_post_url =  \"https://hac40.pps.k12.pa.us/HomeAccess4_1/Account/LogOn?ReturnUrl=%2fHomeAccess4_1%2fHome%2fWeekView\"\n",
    "    return session.post(login_post_url, data=form_vals, headers={\"Referer\": login_url})\n",
    "\n",
    "session = requests.Session()\n"
   ]
  },
  {
   "cell_type": "code",
   "execution_count": null,
   "metadata": {},
   "outputs": [],
   "source": [
    "resp = log_in_and_get_home_page()\n",
    "att_df = parse_attendance(BeautifulSoup(resp.text, \"html.parser\"))\n",
    "att_df"
   ]
  },
  {
   "cell_type": "code",
   "execution_count": null,
   "metadata": {},
   "outputs": [],
   "source": [
    "os.makedirs(\"data\", exist_ok=True)\n",
    "week_file = att_df.columns[0].date().strftime(\"data/%Y-%m-%d.pickle\")\n",
    "if os.path.exists(week_file):\n",
    "    prev_df = pd.read_pickle(week_file)\n",
    "else:\n",
    "    prev_df = att_df.copy()\n",
    "    prev_df.loc[:,:] = \"\"\n",
    "diffs = []\n",
    "for (idxRow, s1), (_, s2) in zip(prev_df.iterrows(), att_df.iterrows()):\n",
    "    for (idxCol, v1), (_, v2) in zip(s1.items(), s2.items()):\n",
    "        if v1 != v2:\n",
    "            if v1 == \"\":\n",
    "                diffs.append(f\"{v2} for {readable_date(idxCol)} {idxRow}\")\n",
    "            elif v2 == \"\":\n",
    "                diffs.append(f\"Removed: {v1} removed from {readable_date(idxCol)} {idxRow}\")\n",
    "            else:\n",
    "                diffs.append(f\"Changed: {v2} (was {v1}) for {readable_date(idxCol)} {idxRow}\")\n",
    "if diffs:\n",
    "    message = \"\\n\".join(reversed(diffs))\n",
    "    print(f\"Sending sms: {diffs}\")\n",
    "    send_sms(message)\n",
    "else:\n",
    "    print(\"No attendance changes\")\n",
    "\n",
    "temp_name = f\"{week_file}.tmp{os.getpid()}\"\n",
    "att_df.to_pickle(temp_name)\n",
    "os.rename(temp_name, week_file)"
   ]
  }
 ],
 "metadata": {
  "kernelspec": {
   "display_name": "Python 3.11.0 ('.venv': venv)",
   "language": "python",
   "name": "python3"
  },
  "language_info": {
   "codemirror_mode": {
    "name": "ipython",
    "version": 3
   },
   "file_extension": ".py",
   "mimetype": "text/x-python",
   "name": "python",
   "nbconvert_exporter": "python",
   "pygments_lexer": "ipython3",
   "version": "3.10.8"
  },
  "vscode": {
   "interpreter": {
    "hash": "fb3670b6de92f7490fc4ae95f03fb57db753dcf601b7ceebd04fc1e68edca763"
   }
  }
 },
 "nbformat": 4,
 "nbformat_minor": 2
}
